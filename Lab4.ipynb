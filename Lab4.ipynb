{
 "cells": [
  {
   "cell_type": "markdown",
   "id": "8db1e615-8969-45f5-80c6-0c9ff6514113",
   "metadata": {},
   "source": [
    "- Create a function that takes one parameter of type int, then it prints out the result formatted like the following pattern (if we give it 5 for example):"
   ]
  },
  {
   "cell_type": "code",
   "execution_count": 111,
   "id": "ce172df8-30d7-4c18-98ff-b9a8f1b91b36",
   "metadata": {},
   "outputs": [],
   "source": [
    "def fac(x : int):  \n",
    "    for i in range(x,0,-1):\n",
    "        for j in range(i,0,-1):\n",
    "            print(j , end= \" \")\n",
    "        print()"
   ]
  },
  {
   "cell_type": "code",
   "execution_count": 112,
   "id": "02209cc8-a59d-4bc2-a45f-d4891e5ec011",
   "metadata": {},
   "outputs": [
    {
     "name": "stdout",
     "output_type": "stream",
     "text": [
      "5 4 3 2 1 \n",
      "4 3 2 1 \n",
      "3 2 1 \n",
      "2 1 \n",
      "1 \n"
     ]
    }
   ],
   "source": [
    "fac(5)"
   ]
  },
  {
   "cell_type": "code",
   "execution_count": 113,
   "id": "3ce00d1e-7837-40c3-9586-6decf3f03c72",
   "metadata": {},
   "outputs": [
    {
     "name": "stdout",
     "output_type": "stream",
     "text": [
      "3 2 1 \n",
      "2 1 \n",
      "1 \n"
     ]
    }
   ],
   "source": [
    "fac(3)"
   ]
  },
  {
   "cell_type": "code",
   "execution_count": null,
   "id": "bf0c8fb1-c8ba-4a4c-bb08-557c22225579",
   "metadata": {},
   "outputs": [],
   "source": []
  },
  {
   "cell_type": "code",
   "execution_count": null,
   "id": "76c961aa-7f7d-4781-8aa6-7a696544193f",
   "metadata": {},
   "outputs": [],
   "source": []
  }
 ],
 "metadata": {
  "kernelspec": {
   "display_name": "Python 3 (ipykernel)",
   "language": "python",
   "name": "python3"
  },
  "language_info": {
   "codemirror_mode": {
    "name": "ipython",
    "version": 3
   },
   "file_extension": ".py",
   "mimetype": "text/x-python",
   "name": "python",
   "nbconvert_exporter": "python",
   "pygments_lexer": "ipython3",
   "version": "3.9.13"
  }
 },
 "nbformat": 4,
 "nbformat_minor": 5
}
